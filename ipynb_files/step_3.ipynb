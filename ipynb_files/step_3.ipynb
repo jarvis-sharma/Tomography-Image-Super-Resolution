{
  "nbformat": 4,
  "nbformat_minor": 0,
  "metadata": {
    "colab": {
      "name": "step-3.ipynb",
      "provenance": [],
      "collapsed_sections": []
    },
    "kernelspec": {
      "name": "python3",
      "display_name": "Python 3"
    },
    "language_info": {
      "name": "python"
    },
    "accelerator": "GPU"
  },
  "cells": [
    {
      "cell_type": "code",
      "metadata": {
        "colab": {
          "base_uri": "https://localhost:8080/"
        },
        "id": "kNmEzJYwtIG2",
        "outputId": "644e0ec8-70c9-4d14-b5c1-8816ea41220c"
      },
      "source": [
        "import tensorflow as tf\n",
        "device_name = tf.test.gpu_device_name()\n",
        "if device_name != '/device:GPU:0':\n",
        "  raise SystemError('GPU device not found')\n",
        "print('Found GPU at: {}'.format(device_name))"
      ],
      "execution_count": 1,
      "outputs": [
        {
          "output_type": "stream",
          "name": "stdout",
          "text": [
            "Found GPU at: /device:GPU:0\n"
          ]
        }
      ]
    },
    {
      "cell_type": "code",
      "metadata": {
        "colab": {
          "base_uri": "https://localhost:8080/"
        },
        "id": "vpNF0pxXtWkg",
        "outputId": "4111b704-b153-4a3f-c7e2-b5a1e322d4ec"
      },
      "source": [
        "from google.colab import drive\n",
        "import os\n",
        "drive.mount('/content/gdrive/')"
      ],
      "execution_count": 2,
      "outputs": [
        {
          "output_type": "stream",
          "name": "stdout",
          "text": [
            "Mounted at /content/gdrive/\n"
          ]
        }
      ]
    },
    {
      "cell_type": "code",
      "metadata": {
        "colab": {
          "base_uri": "https://localhost:8080/"
        },
        "id": "IldvWIIKtpDV",
        "outputId": "7f0e1b9d-f15b-4439-cf2c-c2451be39ca1"
      },
      "source": [
        "import keras\n",
        "from keras.layers import Dense, Conv2DTranspose, LeakyReLU, Reshape, BatchNormalization, Activation, Conv2D\n",
        "from keras.models import Model, Sequential\n",
        "\n",
        "\n",
        "def generador_de_imagenes():\n",
        "\n",
        "    generador = Sequential()\n",
        "\n",
        "    generador.add(Dense(256*4*4, input_shape = (100,)))\n",
        "    #generador.add(BatchNormalization())\n",
        "    generador.add(LeakyReLU())\n",
        "    generador.add(Reshape((4,4,256)))\n",
        "\n",
        "    generador.add(Conv2DTranspose(128,kernel_size=3, strides=2, padding = \"same\"))\n",
        "    #generador.add(BatchNormalization())\n",
        "    generador.add(LeakyReLU(alpha=0.2))\n",
        "\n",
        "\n",
        "    generador.add(Conv2DTranspose(128,kernel_size=3, strides=2, padding = \"same\"))\n",
        "    #generador.add(BatchNormalization())\n",
        "    generador.add(LeakyReLU(alpha=0.2))\n",
        "\n",
        "    generador.add(Conv2DTranspose(128,kernel_size=3, strides=2, padding = \"same\"))\n",
        "    #generador.add(BatchNormalization())\n",
        "    generador.add(LeakyReLU(alpha=0.2))\n",
        "\n",
        "    generador.add(Conv2D(3,kernel_size=3, padding = \"same\", activation='tanh'))\n",
        "\n",
        "    return(generador)\n",
        "\n",
        "modelo_generador = generador_de_imagenes()\n",
        "\n",
        "modelo_generador.summary()"
      ],
      "execution_count": 3,
      "outputs": [
        {
          "output_type": "stream",
          "name": "stdout",
          "text": [
            "Model: \"sequential\"\n",
            "_________________________________________________________________\n",
            "Layer (type)                 Output Shape              Param #   \n",
            "=================================================================\n",
            "dense (Dense)                (None, 4096)              413696    \n",
            "_________________________________________________________________\n",
            "leaky_re_lu (LeakyReLU)      (None, 4096)              0         \n",
            "_________________________________________________________________\n",
            "reshape (Reshape)            (None, 4, 4, 256)         0         \n",
            "_________________________________________________________________\n",
            "conv2d_transpose (Conv2DTran (None, 8, 8, 128)         295040    \n",
            "_________________________________________________________________\n",
            "leaky_re_lu_1 (LeakyReLU)    (None, 8, 8, 128)         0         \n",
            "_________________________________________________________________\n",
            "conv2d_transpose_1 (Conv2DTr (None, 16, 16, 128)       147584    \n",
            "_________________________________________________________________\n",
            "leaky_re_lu_2 (LeakyReLU)    (None, 16, 16, 128)       0         \n",
            "_________________________________________________________________\n",
            "conv2d_transpose_2 (Conv2DTr (None, 32, 32, 128)       147584    \n",
            "_________________________________________________________________\n",
            "leaky_re_lu_3 (LeakyReLU)    (None, 32, 32, 128)       0         \n",
            "_________________________________________________________________\n",
            "conv2d (Conv2D)              (None, 32, 32, 3)         3459      \n",
            "=================================================================\n",
            "Total params: 1,007,363\n",
            "Trainable params: 1,007,363\n",
            "Non-trainable params: 0\n",
            "_________________________________________________________________\n"
          ]
        }
      ]
    },
    {
      "cell_type": "code",
      "metadata": {
        "colab": {
          "base_uri": "https://localhost:8080/",
          "height": 317
        },
        "id": "48w2z2m5tzlk",
        "outputId": "fc2d4ccd-314d-4690-accf-0c1f1390c6d4"
      },
      "source": [
        "import matplotlib.pyplot as plt\n",
        "import numpy as np\n",
        "\n",
        "# Definir datos de entrada\n",
        "def generar_datos_entrada(n_muestras):\n",
        "  X = np.random.randn(100 * n_muestras)\n",
        "  X = X.reshape(n_muestras, 100)\n",
        "  return X\n",
        "\n",
        "def crear_datos_fake(modelo_generador, n_muestras):\n",
        "  input = generar_datos_entrada(n_muestras)\n",
        "  X = modelo_generador.predict(input)\n",
        "  y = np.zeros((n_muestras, 1))\n",
        "  return X,y\n",
        "\n",
        "numero_muestras = 4\n",
        "X,_ = crear_datos_fake(modelo_generador, numero_muestras)\n",
        "\n",
        "# Visualizamos resultados\n",
        "for i in range(numero_muestras):\n",
        "    plt.subplot(2, 2, 1 + i)\n",
        "    plt.axis('off')\n",
        "    plt.imshow(X[i])"
      ],
      "execution_count": 4,
      "outputs": [
        {
          "output_type": "stream",
          "name": "stderr",
          "text": [
            "Clipping input data to the valid range for imshow with RGB data ([0..1] for floats or [0..255] for integers).\n",
            "Clipping input data to the valid range for imshow with RGB data ([0..1] for floats or [0..255] for integers).\n",
            "Clipping input data to the valid range for imshow with RGB data ([0..1] for floats or [0..255] for integers).\n",
            "Clipping input data to the valid range for imshow with RGB data ([0..1] for floats or [0..255] for integers).\n"
          ]
        },
        {
          "output_type": "display_data",
          "data": {
            "image/png": "[encoded data removed]",
            "text/plain": [
              "<Figure size 432x288 with 4 Axes>"
            ]
          },
          "metadata": {
            "needs_background": "light"
          }
        }
      ]
    },
    {
      "cell_type": "code",
      "metadata": {
        "colab": {
          "base_uri": "https://localhost:8080/"
        },
        "id": "uos0uD3At4An",
        "outputId": "6b041a46-0b37-4d96-9af1-4fe653e0cd92"
      },
      "source": [
        "from keras.layers import Conv2D, Flatten, Dropout\n",
        "from tensorflow.keras.optimizers import Adam\n",
        "\n",
        "def discriminador_de_imagenes():\n",
        "\n",
        "    discriminador = Sequential()\n",
        "    discriminador.add(Conv2D(64, kernel_size=3, padding = \"same\", input_shape = (32,32,3)))\n",
        "    discriminador.add(LeakyReLU(alpha=0.2))\n",
        "    #discriminador.add(Dropout(0.2))\n",
        "\n",
        "    discriminador.add(Conv2D(128, kernel_size=3,strides=(2,2), padding = \"same\"))\n",
        "    discriminador.add(LeakyReLU(alpha=0.2))\n",
        "    #discriminador.add(Dropout(0.2))\n",
        "\n",
        "    discriminador.add(Conv2D(128, kernel_size=3,strides=(2,2), padding = \"same\"))\n",
        "    discriminador.add(LeakyReLU(alpha=0.2))\n",
        "    #discriminador.add(Dropout(0.2))\n",
        "\n",
        "    discriminador.add(Conv2D(256, kernel_size=3, strides=(2,2), padding = \"same\"))\n",
        "    discriminador.add(LeakyReLU(alpha=0.2))\n",
        "    #discriminador.add(Dropout(0.2))\n",
        "\n",
        "    discriminador.add(Flatten())\n",
        "    discriminador.add(Dropout(0.4))\n",
        "    discriminador.add(Dense(1, activation='sigmoid'))\n",
        "\n",
        "    opt = Adam(lr=0.0002 ,beta_1=0.5)\n",
        "    discriminador.compile(loss='binary_crossentropy', optimizer= opt , metrics = ['accuracy'])\n",
        "\n",
        "    return(discriminador)\n",
        "\n",
        "modelo_discriminador = discriminador_de_imagenes()\n",
        "modelo_discriminador.summary()"
      ],
      "execution_count": 6,
      "outputs": [
        {
          "output_type": "stream",
          "name": "stdout",
          "text": [
            "Model: \"sequential_1\"\n",
            "_________________________________________________________________\n",
            "Layer (type)                 Output Shape              Param #   \n",
            "=================================================================\n",
            "conv2d_1 (Conv2D)            (None, 32, 32, 64)        1792      \n",
            "_________________________________________________________________\n",
            "leaky_re_lu_4 (LeakyReLU)    (None, 32, 32, 64)        0         \n",
            "_________________________________________________________________\n",
            "conv2d_2 (Conv2D)            (None, 16, 16, 128)       73856     \n",
            "_________________________________________________________________\n",
            "leaky_re_lu_5 (LeakyReLU)    (None, 16, 16, 128)       0         \n",
            "_________________________________________________________________\n",
            "conv2d_3 (Conv2D)            (None, 8, 8, 128)         147584    \n",
            "_________________________________________________________________\n",
            "leaky_re_lu_6 (LeakyReLU)    (None, 8, 8, 128)         0         \n",
            "_________________________________________________________________\n",
            "conv2d_4 (Conv2D)            (None, 4, 4, 256)         295168    \n",
            "_________________________________________________________________\n",
            "leaky_re_lu_7 (LeakyReLU)    (None, 4, 4, 256)         0         \n",
            "_________________________________________________________________\n",
            "flatten (Flatten)            (None, 4096)              0         \n",
            "_________________________________________________________________\n",
            "dropout (Dropout)            (None, 4096)              0         \n",
            "_________________________________________________________________\n",
            "dense_1 (Dense)              (None, 1)                 4097      \n",
            "=================================================================\n",
            "Total params: 522,497\n",
            "Trainable params: 522,497\n",
            "Non-trainable params: 0\n",
            "_________________________________________________________________\n"
          ]
        },
        {
          "output_type": "stream",
          "name": "stderr",
          "text": [
            "/usr/local/lib/python3.7/dist-packages/keras/optimizer_v2/optimizer_v2.py:356: UserWarning: The `lr` argument is deprecated, use `learning_rate` instead.\n",
            "  \"The `lr` argument is deprecated, use `learning_rate` instead.\")\n"
          ]
        }
      ]
    },
    {
      "cell_type": "code",
      "metadata": {
        "colab": {
          "base_uri": "https://localhost:8080/"
        },
        "id": "4opTdACvt_dR",
        "outputId": "f6fa43d4-17be-46e9-b60d-04e9ef63ebcb"
      },
      "source": [
        "from keras.datasets import cifar10\n",
        "\n",
        "def cargar_imagenes():\n",
        "    (Xtrain, Ytrain), (_, _) = cifar10.load_data()\n",
        "\n",
        "    # Nos quedamos con los perros\n",
        "    indice = np.where(Ytrain == 0)\n",
        "    indice = indice[0]\n",
        "    Xtrain = Xtrain[indice, :,:,:]\n",
        "\n",
        "    # Normalizamos los datos\n",
        "    X = Xtrain.astype('float32')\n",
        "    X = (X - 127.5) / 127.5\n",
        "\n",
        "    return X\n",
        "\n",
        "print(cargar_imagenes().shape)"
      ],
      "execution_count": 7,
      "outputs": [
        {
          "output_type": "stream",
          "name": "stdout",
          "text": [
            "Downloading data from https://www.cs.toronto.edu/~kriz/cifar-10-python.tar.gz\n",
            "170500096/170498071 [==============================] - 11s 0us/step\n",
            "170508288/170498071 [==============================] - 11s 0us/step\n",
            "(5000, 32, 32, 3)\n"
          ]
        }
      ]
    },
    {
      "cell_type": "code",
      "metadata": {
        "id": "BP3g_k3luNER"
      },
      "source": [
        "import random\n",
        "\n",
        "def cargar_datos_reales(dataset, n_muestras):\n",
        "  ix = np.random.randint(0, dataset.shape[0], n_muestras)\n",
        "  X = dataset[ix]\n",
        "  y = np.ones((n_muestras, 1))\n",
        "  return X,y\n",
        "\n",
        "def cargar_datos_fake(n_muestras):\n",
        "  X = np.random.rand(32 * 32 * 3 * n_muestras)\n",
        "  X = -1 + X * 2\n",
        "  X = X.reshape((n_muestras, 32,32,3))\n",
        "  y = np.zeros((n_muestras, 1))\n",
        "  return X,y"
      ],
      "execution_count": 8,
      "outputs": []
    },
    {
      "cell_type": "code",
      "metadata": {
        "id": "Knt1Sm5WuSsb"
      },
      "source": [
        "def entrenar_discriminador(modelo, dataset, n_iteraciones=20, batch = 128):\n",
        "  medio_batch = int(batch/2)\n",
        "\n",
        "  for i in range(n_iteraciones):\n",
        "    X_real, y_real = cargar_datos_reales(dataset, medio_batch)\n",
        "    _, acc_real = modelo.train_on_batch(X_real, y_real)\n",
        "\n",
        "    X_fake, y_fake = cargar_datos_fake(medio_batch)\n",
        "    _, acc_fake = modelo.train_on_batch(X_fake, y_fake)\n",
        "\n",
        "    print(str(i+1) + ' Real:' + str(acc_real*100) + ', Fake:' + str(acc_fake*100))"
      ],
      "execution_count": 9,
      "outputs": []
    },
    {
      "cell_type": "code",
      "metadata": {
        "colab": {
          "base_uri": "https://localhost:8080/"
        },
        "id": "ckDdAdb4uVdD",
        "outputId": "bf34a422-9e9d-4fbd-b47c-b02ea5976e2c"
      },
      "source": [
        "dataset = cargar_imagenes()\n",
        "entrenar_discriminador(modelo_discriminador, dataset)\n"
      ],
      "execution_count": 10,
      "outputs": [
        {
          "output_type": "stream",
          "name": "stdout",
          "text": [
            "1 Real:51.5625, Fake:0.0\n",
            "2 Real:93.75, Fake:4.6875\n",
            "3 Real:90.625, Fake:37.5\n",
            "4 Real:87.5, Fake:75.0\n",
            "5 Real:84.375, Fake:95.3125\n",
            "6 Real:84.375, Fake:100.0\n",
            "7 Real:71.875, Fake:100.0\n",
            "8 Real:81.25, Fake:100.0\n",
            "9 Real:73.4375, Fake:100.0\n",
            "10 Real:76.5625, Fake:100.0\n",
            "11 Real:95.3125, Fake:100.0\n",
            "12 Real:84.375, Fake:100.0\n",
            "13 Real:87.5, Fake:100.0\n",
            "14 Real:90.625, Fake:100.0\n",
            "15 Real:96.875, Fake:100.0\n",
            "16 Real:100.0, Fake:100.0\n",
            "17 Real:96.875, Fake:100.0\n",
            "18 Real:98.4375, Fake:100.0\n",
            "19 Real:100.0, Fake:100.0\n",
            "20 Real:100.0, Fake:100.0\n"
          ]
        }
      ]
    },
    {
      "cell_type": "code",
      "metadata": {
        "colab": {
          "base_uri": "https://localhost:8080/"
        },
        "id": "tCvqhoN3uXqD",
        "outputId": "82be99e8-1ef3-43d9-cf4d-41b27773a7ca"
      },
      "source": [
        "def crear_gan(discriminador, generador):\n",
        "    discriminador.trainable=False\n",
        "    gan = Sequential()\n",
        "    gan.add(generador)\n",
        "    gan.add(discriminador)\n",
        "\n",
        "    opt = Adam(lr=0.0002,beta_1=0.5) \n",
        "    gan.compile(loss = \"binary_crossentropy\", optimizer = opt)\n",
        "\n",
        "    return gan\n",
        "\n",
        "gan = crear_gan(modelo_discriminador,modelo_generador)\n",
        "gan.summary()"
      ],
      "execution_count": 11,
      "outputs": [
        {
          "output_type": "stream",
          "name": "stdout",
          "text": [
            "Model: \"sequential_2\"\n",
            "_________________________________________________________________\n",
            "Layer (type)                 Output Shape              Param #   \n",
            "=================================================================\n",
            "sequential (Sequential)      (None, 32, 32, 3)         1007363   \n",
            "_________________________________________________________________\n",
            "sequential_1 (Sequential)    (None, 1)                 522497    \n",
            "=================================================================\n",
            "Total params: 1,529,860\n",
            "Trainable params: 1,007,363\n",
            "Non-trainable params: 522,497\n",
            "_________________________________________________________________\n"
          ]
        },
        {
          "output_type": "stream",
          "name": "stderr",
          "text": [
            "/usr/local/lib/python3.7/dist-packages/keras/optimizer_v2/optimizer_v2.py:356: UserWarning: The `lr` argument is deprecated, use `learning_rate` instead.\n",
            "  \"The `lr` argument is deprecated, use `learning_rate` instead.\")\n"
          ]
        }
      ]
    },
    {
      "cell_type": "code",
      "metadata": {
        "id": "XjsvQ0NZucUJ"
      },
      "source": [
        "import pandas as pd\n",
        "import matplotlib.pyplot as plt\n",
        "%matplotlib inline\n",
        "from datetime import datetime\n",
        "\n",
        "def mostrar_imagenes_generadas(datos_fake, epoch):\n",
        "\n",
        "  now = datetime.now()\n",
        "  now = now.strftime(\"%Y%m%d_%H%M%S\")\n",
        "\n",
        "  # Hacemos que los datos vayan de 0 a 1\n",
        "  datos_fake = (datos_fake + 1) / 2.0\n",
        "\n",
        "  for i in range(10):\n",
        "    plt.imshow(datos_fake[i])\n",
        "    plt.axis('off')\n",
        "    nombre = str(epoch) + '_imagen_generada_' + str(i) + '.png'\n",
        "    plt.savefig(nombre, bbox_inches='tight')\n",
        "    plt.close()"
      ],
      "execution_count": 12,
      "outputs": []
    },
    {
      "cell_type": "code",
      "metadata": {
        "id": "IatGyZqgufXk"
      },
      "source": [
        "def evaluar_y_guardar(modelo_generador, epoch, medio_dataset):\n",
        "\n",
        "  # We save the model\n",
        "  now = datetime.now()\n",
        "  now = now.strftime(\"%Y%m%d_%H%M%S\")\n",
        "  nombre = str(epoch) + '_' + str(now)+\"_modelo_generador_\" + '.h5'\n",
        "  modelo_generador.save(nombre)\n",
        "\n",
        "  # We generate new data\n",
        "  X_real,Y_real = cargar_datos_reales(dataset, medio_dataset)\n",
        "  X_fake, Y_fake =  crear_datos_fake(modelo_generador,medio_dataset)\n",
        "\n",
        "  # We evaluate the model\n",
        "  _, acc_real = modelo_discriminador.evaluate(X_real, Y_real)\n",
        "  _, acc_fake = modelo_discriminador.evaluate(X_fake, Y_fake)\n",
        "\n",
        "  print('Acc Real:' + str(acc_real*100) + '% Acc Fake:' + str(acc_fake*100)+'%')"
      ],
      "execution_count": 13,
      "outputs": []
    },
    {
      "cell_type": "code",
      "metadata": {
        "id": "cbWIvBA6uhuG"
      },
      "source": [
        "def entrenamiento(datos, modelo_generador, modelo_discriminador, epochs, n_batch, inicio = 0):\n",
        "  dimension_batch = int(datos.shape[0]/n_batch)\n",
        "  medio_dataset = int(n_batch/2)\n",
        "\n",
        "  # We iterate over the epochs\n",
        "  for epoch in range(inicio, inicio + epochs):\n",
        "    # We iterate over all batches\n",
        "    for batch in range(n_batch):\n",
        "\n",
        "      # We load all the real data\n",
        "      X_real,Y_real = cargar_datos_reales(dataset, medio_dataset)\n",
        "\n",
        "\n",
        "      # We train the discriminator withEnrenamos discriminador con datos reales\n",
        "      coste_discriminador_real, _ = modelo_discriminador.train_on_batch(X_real, Y_real)\n",
        "      X_fake, Y_fake =  crear_datos_fake(modelo_generador,medio_dataset)\n",
        "\n",
        "      coste_discriminador_fake, _ = modelo_discriminador.train_on_batch(X_fake, Y_fake)\n",
        "\n",
        "      # We generate input images for the GAN\n",
        "      X_gan = generar_datos_entrada(medio_dataset)\n",
        "      Y_gan = np.ones((medio_dataset, 1))\n",
        "\n",
        "      # We train the GAN with fake data\n",
        "      coste_gan = gan.train_on_batch(X_gan, Y_gan)\n",
        "\n",
        "    # Every 10 epochs we show the results and cost \n",
        "    if (epoch+1) % 10 == 0:\n",
        "      evaluar_y_guardar(modelo_generador,epoch = epoch, medio_dataset= medio_dataset)\n",
        "      mostrar_imagenes_generadas(X_fake, epoch = epoch)"
      ],
      "execution_count": 14,
      "outputs": []
    },
    {
      "cell_type": "code",
      "metadata": {
        "colab": {
          "base_uri": "https://localhost:8080/"
        },
        "id": "Kwv9fwjwukn0",
        "outputId": "58a62b6e-8753-4fde-9dc2-d09d0fed9e77"
      },
      "source": [
        "entrenamiento(dataset, modelo_generador, modelo_discriminador, epochs = 300, n_batch=128, inicio = 0)"
      ],
      "execution_count": 15,
      "outputs": [
        {
          "output_type": "stream",
          "name": "stdout",
          "text": [
            "WARNING:tensorflow:Compiled the loaded model, but the compiled metrics have yet to be built. `model.compile_metrics` will be empty until you train or evaluate the model.\n",
            "2/2 [==============================] - 0s 11ms/step - loss: 0.5103 - accuracy: 0.7344\n",
            "2/2 [==============================] - 0s 7ms/step - loss: 0.3930 - accuracy: 0.9375\n",
            "Acc Real:73.4375% Acc Fake:93.75%\n",
            "WARNING:tensorflow:Compiled the loaded model, but the compiled metrics have yet to be built. `model.compile_metrics` will be empty until you train or evaluate the model.\n",
            "2/2 [==============================] - 0s 7ms/step - loss: 0.5130 - accuracy: 0.6875\n",
            "2/2 [==============================] - 0s 8ms/step - loss: 0.3029 - accuracy: 0.9844\n",
            "Acc Real:68.75% Acc Fake:98.4375%\n",
            "WARNING:tensorflow:Compiled the loaded model, but the compiled metrics have yet to be built. `model.compile_metrics` will be empty until you train or evaluate the model.\n",
            "2/2 [==============================] - 0s 7ms/step - loss: 0.3565 - accuracy: 0.8750\n",
            "2/2 [==============================] - 0s 7ms/step - loss: 0.3992 - accuracy: 0.8594\n",
            "Acc Real:87.5% Acc Fake:85.9375%\n",
            "WARNING:tensorflow:Compiled the loaded model, but the compiled metrics have yet to be built. `model.compile_metrics` will be empty until you train or evaluate the model.\n",
            "2/2 [==============================] - 0s 9ms/step - loss: 0.6054 - accuracy: 0.7031\n",
            "2/2 [==============================] - 0s 9ms/step - loss: 0.5014 - accuracy: 0.7656\n",
            "Acc Real:70.3125% Acc Fake:76.5625%\n",
            "WARNING:tensorflow:Compiled the loaded model, but the compiled metrics have yet to be built. `model.compile_metrics` will be empty until you train or evaluate the model.\n",
            "2/2 [==============================] - 0s 8ms/step - loss: 0.6206 - accuracy: 0.6250\n",
            "2/2 [==============================] - 0s 8ms/step - loss: 0.4367 - accuracy: 0.9219\n",
            "Acc Real:62.5% Acc Fake:92.1875%\n",
            "WARNING:tensorflow:Compiled the loaded model, but the compiled metrics have yet to be built. `model.compile_metrics` will be empty until you train or evaluate the model.\n",
            "2/2 [==============================] - 0s 10ms/step - loss: 0.5039 - accuracy: 0.7500\n",
            "2/2 [==============================] - 0s 9ms/step - loss: 0.3795 - accuracy: 0.8906\n",
            "Acc Real:75.0% Acc Fake:89.0625%\n",
            "WARNING:tensorflow:Compiled the loaded model, but the compiled metrics have yet to be built. `model.compile_metrics` will be empty until you train or evaluate the model.\n",
            "2/2 [==============================] - 0s 7ms/step - loss: 0.4871 - accuracy: 0.7188\n",
            "2/2 [==============================] - 0s 9ms/step - loss: 0.4359 - accuracy: 0.8906\n",
            "Acc Real:71.875% Acc Fake:89.0625%\n",
            "WARNING:tensorflow:Compiled the loaded model, but the compiled metrics have yet to be built. `model.compile_metrics` will be empty until you train or evaluate the model.\n",
            "2/2 [==============================] - 0s 8ms/step - loss: 0.4403 - accuracy: 0.7344\n",
            "2/2 [==============================] - 0s 7ms/step - loss: 0.4079 - accuracy: 0.8906\n",
            "Acc Real:73.4375% Acc Fake:89.0625%\n",
            "WARNING:tensorflow:Compiled the loaded model, but the compiled metrics have yet to be built. `model.compile_metrics` will be empty until you train or evaluate the model.\n",
            "2/2 [==============================] - 0s 8ms/step - loss: 0.4005 - accuracy: 0.8125\n",
            "2/2 [==============================] - 0s 8ms/step - loss: 0.3442 - accuracy: 0.8906\n",
            "Acc Real:81.25% Acc Fake:89.0625%\n",
            "WARNING:tensorflow:Compiled the loaded model, but the compiled metrics have yet to be built. `model.compile_metrics` will be empty until you train or evaluate the model.\n",
            "2/2 [==============================] - 0s 8ms/step - loss: 0.4132 - accuracy: 0.8281\n",
            "2/2 [==============================] - 0s 11ms/step - loss: 0.3597 - accuracy: 0.8906\n",
            "Acc Real:82.8125% Acc Fake:89.0625%\n",
            "WARNING:tensorflow:Compiled the loaded model, but the compiled metrics have yet to be built. `model.compile_metrics` will be empty until you train or evaluate the model.\n",
            "2/2 [==============================] - 0s 8ms/step - loss: 0.4790 - accuracy: 0.7188\n",
            "2/2 [==============================] - 0s 8ms/step - loss: 0.3214 - accuracy: 0.9219\n",
            "Acc Real:71.875% Acc Fake:92.1875%\n",
            "WARNING:tensorflow:Compiled the loaded model, but the compiled metrics have yet to be built. `model.compile_metrics` will be empty until you train or evaluate the model.\n",
            "2/2 [==============================] - 0s 10ms/step - loss: 0.2474 - accuracy: 0.9062\n",
            "2/2 [==============================] - 0s 7ms/step - loss: 0.2711 - accuracy: 0.9375\n",
            "Acc Real:90.625% Acc Fake:93.75%\n",
            "WARNING:tensorflow:Compiled the loaded model, but the compiled metrics have yet to be built. `model.compile_metrics` will be empty until you train or evaluate the model.\n",
            "2/2 [==============================] - 0s 8ms/step - loss: 0.2984 - accuracy: 0.9062\n",
            "2/2 [==============================] - 0s 7ms/step - loss: 0.2688 - accuracy: 0.9375\n",
            "Acc Real:90.625% Acc Fake:93.75%\n",
            "WARNING:tensorflow:Compiled the loaded model, but the compiled metrics have yet to be built. `model.compile_metrics` will be empty until you train or evaluate the model.\n",
            "2/2 [==============================] - 0s 8ms/step - loss: 0.3045 - accuracy: 0.8906\n",
            "2/2 [==============================] - 0s 10ms/step - loss: 0.1681 - accuracy: 0.9531\n",
            "Acc Real:89.0625% Acc Fake:95.3125%\n",
            "WARNING:tensorflow:Compiled the loaded model, but the compiled metrics have yet to be built. `model.compile_metrics` will be empty until you train or evaluate the model.\n",
            "2/2 [==============================] - 0s 13ms/step - loss: 0.3300 - accuracy: 0.8281\n",
            "2/2 [==============================] - 0s 7ms/step - loss: 0.1873 - accuracy: 0.9375\n",
            "Acc Real:82.8125% Acc Fake:93.75%\n",
            "WARNING:tensorflow:Compiled the loaded model, but the compiled metrics have yet to be built. `model.compile_metrics` will be empty until you train or evaluate the model.\n",
            "2/2 [==============================] - 0s 8ms/step - loss: 0.2479 - accuracy: 0.9531\n",
            "2/2 [==============================] - 0s 7ms/step - loss: 0.1643 - accuracy: 0.9688\n",
            "Acc Real:95.3125% Acc Fake:96.875%\n",
            "WARNING:tensorflow:Compiled the loaded model, but the compiled metrics have yet to be built. `model.compile_metrics` will be empty until you train or evaluate the model.\n",
            "2/2 [==============================] - 0s 10ms/step - loss: 0.1578 - accuracy: 1.0000\n",
            "2/2 [==============================] - 0s 8ms/step - loss: 0.1427 - accuracy: 0.9844\n",
            "Acc Real:100.0% Acc Fake:98.4375%\n",
            "WARNING:tensorflow:Compiled the loaded model, but the compiled metrics have yet to be built. `model.compile_metrics` will be empty until you train or evaluate the model.\n",
            "2/2 [==============================] - 0s 11ms/step - loss: 0.1932 - accuracy: 0.9531\n",
            "2/2 [==============================] - 0s 9ms/step - loss: 0.1465 - accuracy: 0.9688\n",
            "Acc Real:95.3125% Acc Fake:96.875%\n",
            "WARNING:tensorflow:Compiled the loaded model, but the compiled metrics have yet to be built. `model.compile_metrics` will be empty until you train or evaluate the model.\n",
            "2/2 [==============================] - 0s 9ms/step - loss: 0.1701 - accuracy: 0.9531\n",
            "2/2 [==============================] - 0s 8ms/step - loss: 0.1029 - accuracy: 0.9844\n",
            "Acc Real:95.3125% Acc Fake:98.4375%\n",
            "WARNING:tensorflow:Compiled the loaded model, but the compiled metrics have yet to be built. `model.compile_metrics` will be empty until you train or evaluate the model.\n",
            "2/2 [==============================] - 0s 9ms/step - loss: 0.0817 - accuracy: 1.0000\n",
            "2/2 [==============================] - 0s 8ms/step - loss: 0.1327 - accuracy: 0.9688\n",
            "Acc Real:100.0% Acc Fake:96.875%\n",
            "WARNING:tensorflow:Compiled the loaded model, but the compiled metrics have yet to be built. `model.compile_metrics` will be empty until you train or evaluate the model.\n",
            "2/2 [==============================] - 0s 12ms/step - loss: 0.0531 - accuracy: 1.0000\n",
            "2/2 [==============================] - 0s 8ms/step - loss: 0.1442 - accuracy: 0.9531\n",
            "Acc Real:100.0% Acc Fake:95.3125%\n",
            "WARNING:tensorflow:Compiled the loaded model, but the compiled metrics have yet to be built. `model.compile_metrics` will be empty until you train or evaluate the model.\n",
            "2/2 [==============================] - 0s 11ms/step - loss: 0.0632 - accuracy: 1.0000\n",
            "2/2 [==============================] - 0s 9ms/step - loss: 0.1143 - accuracy: 0.9844\n",
            "Acc Real:100.0% Acc Fake:98.4375%\n",
            "WARNING:tensorflow:Compiled the loaded model, but the compiled metrics have yet to be built. `model.compile_metrics` will be empty until you train or evaluate the model.\n",
            "2/2 [==============================] - 0s 9ms/step - loss: 0.1080 - accuracy: 0.9844\n",
            "2/2 [==============================] - 0s 10ms/step - loss: 0.0795 - accuracy: 0.9844\n",
            "Acc Real:98.4375% Acc Fake:98.4375%\n",
            "WARNING:tensorflow:Compiled the loaded model, but the compiled metrics have yet to be built. `model.compile_metrics` will be empty until you train or evaluate the model.\n",
            "2/2 [==============================] - 0s 9ms/step - loss: 0.1539 - accuracy: 0.9688\n",
            "2/2 [==============================] - 0s 8ms/step - loss: 0.0685 - accuracy: 0.9844\n",
            "Acc Real:96.875% Acc Fake:98.4375%\n",
            "WARNING:tensorflow:Compiled the loaded model, but the compiled metrics have yet to be built. `model.compile_metrics` will be empty until you train or evaluate the model.\n",
            "2/2 [==============================] - 0s 10ms/step - loss: 0.0831 - accuracy: 1.0000\n",
            "2/2 [==============================] - 0s 8ms/step - loss: 0.0807 - accuracy: 0.9844\n",
            "Acc Real:100.0% Acc Fake:98.4375%\n",
            "WARNING:tensorflow:Compiled the loaded model, but the compiled metrics have yet to be built. `model.compile_metrics` will be empty until you train or evaluate the model.\n",
            "2/2 [==============================] - 0s 9ms/step - loss: 0.0610 - accuracy: 0.9844\n",
            "2/2 [==============================] - 0s 8ms/step - loss: 0.0480 - accuracy: 0.9844\n",
            "Acc Real:98.4375% Acc Fake:98.4375%\n",
            "WARNING:tensorflow:Compiled the loaded model, but the compiled metrics have yet to be built. `model.compile_metrics` will be empty until you train or evaluate the model.\n",
            "2/2 [==============================] - 0s 8ms/step - loss: 0.0705 - accuracy: 1.0000\n",
            "2/2 [==============================] - 0s 7ms/step - loss: 0.0453 - accuracy: 1.0000\n",
            "Acc Real:100.0% Acc Fake:100.0%\n",
            "WARNING:tensorflow:Compiled the loaded model, but the compiled metrics have yet to be built. `model.compile_metrics` will be empty until you train or evaluate the model.\n",
            "2/2 [==============================] - 0s 7ms/step - loss: 0.0718 - accuracy: 0.9844\n",
            "2/2 [==============================] - 0s 11ms/step - loss: 0.0691 - accuracy: 0.9688\n",
            "Acc Real:98.4375% Acc Fake:96.875%\n",
            "WARNING:tensorflow:Compiled the loaded model, but the compiled metrics have yet to be built. `model.compile_metrics` will be empty until you train or evaluate the model.\n",
            "2/2 [==============================] - 0s 11ms/step - loss: 0.0850 - accuracy: 0.9844\n",
            "2/2 [==============================] - 0s 8ms/step - loss: 0.0489 - accuracy: 1.0000\n",
            "Acc Real:98.4375% Acc Fake:100.0%\n",
            "WARNING:tensorflow:Compiled the loaded model, but the compiled metrics have yet to be built. `model.compile_metrics` will be empty until you train or evaluate the model.\n",
            "2/2 [==============================] - 0s 10ms/step - loss: 0.0681 - accuracy: 0.9844\n",
            "2/2 [==============================] - 0s 8ms/step - loss: 0.0228 - accuracy: 1.0000\n",
            "Acc Real:98.4375% Acc Fake:100.0%\n"
          ]
        }
      ]
    },
    {
      "cell_type": "code",
      "metadata": {
        "colab": {
          "base_uri": "https://localhost:8080/",
          "height": 248
        },
        "id": "doLQd4s9uoA6",
        "outputId": "66f447bb-6723-4c68-c99f-1eba2d41b25c"
      },
      "source": [
        "X_fake, _ = crear_datos_fake(n_muestras=49, modelo_generador=modelo_generador)\n",
        "X_fake = (X_fake+1)/2\n",
        "\n",
        "for i in range(49):\n",
        "  plt.subplot(7,7,i+1)\n",
        "  plt.axis('off')\n",
        "  plt.imshow(X_fake[i])"
      ],
      "execution_count": 16,
      "outputs": [
        {
          "output_type": "display_data",
          "data": {
            "image/png": "[encoded data removed]",
            "text/plain": [
              "<Figure size 432x288 with 49 Axes>"
            ]
          },
          "metadata": {
            "needs_background": "light"
          }
        }
      ]
    },
    {
      "cell_type": "code",
      "metadata": {
        "id": "gJ7RcObEutzI"
      },
      "source": [
        ""
      ],
      "execution_count": null,
      "outputs": []
    }
  ]
}